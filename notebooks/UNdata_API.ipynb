{
 "cells": [
  {
   "cell_type": "markdown",
   "metadata": {},
   "source": [
    "In this exercise, you'll redo the data gathering phase of the UNData Exploration project by using APIs instead of downloading csv files.\n",
    "\n",
    "You'll make use of the [World Bank Indicators API](https://datahelpdesk.worldbank.org/knowledgebase/articles/889392-about-the-indicators-api-documentation). Note that this API does not require an API key. Before attempting the exercise, it would be a good idea to skim through the Documentation page and to check out the [Basic Call Structure article](https://datahelpdesk.worldbank.org/knowledgebase/articles/898581)."
   ]
  },
  {
   "cell_type": "code",
   "execution_count": 38,
   "metadata": {},
   "outputs": [],
   "source": [
    "import requests\n",
    "import pandas as pd"
   ]
  },
  {
   "cell_type": "markdown",
   "metadata": {},
   "source": [
    "1. Use the API to get all available data for the _GDP per capita, PPP (constant 2017 international $)_ indicator. Hint: this indicator has code \"NY.GDP.PCAP.PP.KD\". Adjust the query parameters so that you can retrieve all available rows. Convert the results to a DataFrame."
   ]
  },
  {
   "cell_type": "code",
   "execution_count": 77,
   "metadata": {},
   "outputs": [
    {
     "data": {
      "text/plain": [
       "200"
      ]
     },
     "execution_count": 77,
     "metadata": {},
     "output_type": "execute_result"
    }
   ],
   "source": [
    "endpoint = 'http://api.worldbank.org/v2/country/all/indicator/NY.GDP.PCAP.PP.KD'\n",
    "\n",
    "params = {\n",
    "    'format': 'json',\n",
    "    'per_page': '20000'\n",
    "}\n",
    "\n",
    "response = requests.get(endpoint, params = params)\n",
    "\n",
    "response.status_code"
   ]
  },
  {
   "cell_type": "code",
   "execution_count": 78,
   "metadata": {},
   "outputs": [
    {
     "data": {
      "text/plain": [
       "{'page': 1,\n",
       " 'pages': 1,\n",
       " 'per_page': 20000,\n",
       " 'total': 16758,\n",
       " 'sourceid': '2',\n",
       " 'lastupdated': '2023-09-19'}"
      ]
     },
     "execution_count": 78,
     "metadata": {},
     "output_type": "execute_result"
    }
   ],
   "source": [
    "# note: I could start with default poer_pgae and take response.json()[0]['total']\n",
    "# and then go back and adjust the total number of responses\n",
    "response.json()[0]"
   ]
  },
  {
   "cell_type": "code",
   "execution_count": 41,
   "metadata": {},
   "outputs": [],
   "source": [
    "gdp_df = pd.json_normalize(response.json()[1])"
   ]
  },
  {
   "cell_type": "code",
   "execution_count": 42,
   "metadata": {},
   "outputs": [
    {
     "data": {
      "text/html": [
       "<div>\n",
       "<style scoped>\n",
       "    .dataframe tbody tr th:only-of-type {\n",
       "        vertical-align: middle;\n",
       "    }\n",
       "\n",
       "    .dataframe tbody tr th {\n",
       "        vertical-align: top;\n",
       "    }\n",
       "\n",
       "    .dataframe thead th {\n",
       "        text-align: right;\n",
       "    }\n",
       "</style>\n",
       "<table border=\"1\" class=\"dataframe\">\n",
       "  <thead>\n",
       "    <tr style=\"text-align: right;\">\n",
       "      <th></th>\n",
       "      <th>Year</th>\n",
       "      <th>GDP_per_capita</th>\n",
       "      <th>Country</th>\n",
       "    </tr>\n",
       "  </thead>\n",
       "  <tbody>\n",
       "    <tr>\n",
       "      <th>0</th>\n",
       "      <td>2022</td>\n",
       "      <td>3553.913370</td>\n",
       "      <td>Africa Eastern and Southern</td>\n",
       "    </tr>\n",
       "    <tr>\n",
       "      <th>1</th>\n",
       "      <td>2021</td>\n",
       "      <td>3519.174840</td>\n",
       "      <td>Africa Eastern and Southern</td>\n",
       "    </tr>\n",
       "    <tr>\n",
       "      <th>2</th>\n",
       "      <td>2020</td>\n",
       "      <td>3455.023119</td>\n",
       "      <td>Africa Eastern and Southern</td>\n",
       "    </tr>\n",
       "    <tr>\n",
       "      <th>3</th>\n",
       "      <td>2019</td>\n",
       "      <td>3648.220302</td>\n",
       "      <td>Africa Eastern and Southern</td>\n",
       "    </tr>\n",
       "    <tr>\n",
       "      <th>4</th>\n",
       "      <td>2018</td>\n",
       "      <td>3661.360566</td>\n",
       "      <td>Africa Eastern and Southern</td>\n",
       "    </tr>\n",
       "  </tbody>\n",
       "</table>\n",
       "</div>"
      ],
      "text/plain": [
       "   Year  GDP_per_capita                      Country\n",
       "0  2022     3553.913370  Africa Eastern and Southern\n",
       "1  2021     3519.174840  Africa Eastern and Southern\n",
       "2  2020     3455.023119  Africa Eastern and Southern\n",
       "3  2019     3648.220302  Africa Eastern and Southern\n",
       "4  2018     3661.360566  Africa Eastern and Southern"
      ]
     },
     "execution_count": 42,
     "metadata": {},
     "output_type": "execute_result"
    }
   ],
   "source": [
    "gdp_df = (\n",
    "    gdp_df\n",
    "    .rename(columns={\n",
    "        'date': 'Year',\n",
    "        'value': 'GDP_per_capita',\n",
    "        'country.value': 'Country'})\n",
    "    .drop(columns=[\n",
    "        'countryiso3code',\n",
    "        'unit',\n",
    "        'obs_status',\n",
    "        'decimal',\n",
    "        'indicator.id',\n",
    "        'indicator.value',\n",
    "        'country.id'])\n",
    ")\n",
    "\n",
    "gdp_df.head()"
   ]
  },
  {
   "cell_type": "markdown",
   "metadata": {},
   "source": [
    "2. Now, use the API to get all available data for _Life expectancy at birth, total (years)_. This indicator has code \"SP.DYN.LE00.IN\". Again, convert the results to a DataFrame."
   ]
  },
  {
   "cell_type": "code",
   "execution_count": 43,
   "metadata": {},
   "outputs": [
    {
     "data": {
      "text/plain": [
       "200"
      ]
     },
     "execution_count": 43,
     "metadata": {},
     "output_type": "execute_result"
    }
   ],
   "source": [
    "endpoint = 'http://api.worldbank.org/v2/country/all/indicator/SP.DYN.LE00.IN'\n",
    "\n",
    "params = {\n",
    "    'format': 'json',\n",
    "    'per_page': '20000'\n",
    "}\n",
    "\n",
    "response = requests.get(endpoint, params = params)\n",
    "\n",
    "response.status_code"
   ]
  },
  {
   "cell_type": "code",
   "execution_count": 44,
   "metadata": {},
   "outputs": [
    {
     "data": {
      "text/plain": [
       "{'page': 1,\n",
       " 'pages': 1,\n",
       " 'per_page': 20000,\n",
       " 'total': 16758,\n",
       " 'sourceid': '2',\n",
       " 'lastupdated': '2023-09-19'}"
      ]
     },
     "execution_count": 44,
     "metadata": {},
     "output_type": "execute_result"
    }
   ],
   "source": [
    "response.json()[0]"
   ]
  },
  {
   "cell_type": "code",
   "execution_count": 45,
   "metadata": {},
   "outputs": [],
   "source": [
    "le_df = pd.json_normalize(response.json()[1])"
   ]
  },
  {
   "cell_type": "code",
   "execution_count": 46,
   "metadata": {},
   "outputs": [
    {
     "data": {
      "text/html": [
       "<div>\n",
       "<style scoped>\n",
       "    .dataframe tbody tr th:only-of-type {\n",
       "        vertical-align: middle;\n",
       "    }\n",
       "\n",
       "    .dataframe tbody tr th {\n",
       "        vertical-align: top;\n",
       "    }\n",
       "\n",
       "    .dataframe thead th {\n",
       "        text-align: right;\n",
       "    }\n",
       "</style>\n",
       "<table border=\"1\" class=\"dataframe\">\n",
       "  <thead>\n",
       "    <tr style=\"text-align: right;\">\n",
       "      <th></th>\n",
       "      <th>ISO</th>\n",
       "      <th>Year</th>\n",
       "      <th>Life_Expectancy</th>\n",
       "      <th>Country</th>\n",
       "    </tr>\n",
       "  </thead>\n",
       "  <tbody>\n",
       "    <tr>\n",
       "      <th>0</th>\n",
       "      <td>AFE</td>\n",
       "      <td>2022</td>\n",
       "      <td>NaN</td>\n",
       "      <td>Africa Eastern and Southern</td>\n",
       "    </tr>\n",
       "    <tr>\n",
       "      <th>1</th>\n",
       "      <td>AFE</td>\n",
       "      <td>2021</td>\n",
       "      <td>62.454590</td>\n",
       "      <td>Africa Eastern and Southern</td>\n",
       "    </tr>\n",
       "    <tr>\n",
       "      <th>2</th>\n",
       "      <td>AFE</td>\n",
       "      <td>2020</td>\n",
       "      <td>63.313860</td>\n",
       "      <td>Africa Eastern and Southern</td>\n",
       "    </tr>\n",
       "    <tr>\n",
       "      <th>3</th>\n",
       "      <td>AFE</td>\n",
       "      <td>2019</td>\n",
       "      <td>63.755678</td>\n",
       "      <td>Africa Eastern and Southern</td>\n",
       "    </tr>\n",
       "    <tr>\n",
       "      <th>4</th>\n",
       "      <td>AFE</td>\n",
       "      <td>2018</td>\n",
       "      <td>63.365863</td>\n",
       "      <td>Africa Eastern and Southern</td>\n",
       "    </tr>\n",
       "  </tbody>\n",
       "</table>\n",
       "</div>"
      ],
      "text/plain": [
       "   ISO  Year  Life_Expectancy                      Country\n",
       "0  AFE  2022              NaN  Africa Eastern and Southern\n",
       "1  AFE  2021        62.454590  Africa Eastern and Southern\n",
       "2  AFE  2020        63.313860  Africa Eastern and Southern\n",
       "3  AFE  2019        63.755678  Africa Eastern and Southern\n",
       "4  AFE  2018        63.365863  Africa Eastern and Southern"
      ]
     },
     "execution_count": 46,
     "metadata": {},
     "output_type": "execute_result"
    }
   ],
   "source": [
    "le_df = (\n",
    "    le_df\n",
    "    .rename(columns={\n",
    "        'countryiso3code': 'ISO',\n",
    "        'date': 'Year',\n",
    "        'value': 'Life_Expectancy',\n",
    "        'country.value': 'Country'})\n",
    "    .drop(columns=[\n",
    "        'unit',\n",
    "        'obs_status',\n",
    "        'decimal',\n",
    "        'indicator.id',\n",
    "        'indicator.value',\n",
    "        'country.id'])\n",
    ")\n",
    "\n",
    "le_df.head()"
   ]
  },
  {
   "cell_type": "code",
   "execution_count": 47,
   "metadata": {},
   "outputs": [
    {
     "data": {
      "text/html": [
       "<div>\n",
       "<style scoped>\n",
       "    .dataframe tbody tr th:only-of-type {\n",
       "        vertical-align: middle;\n",
       "    }\n",
       "\n",
       "    .dataframe tbody tr th {\n",
       "        vertical-align: top;\n",
       "    }\n",
       "\n",
       "    .dataframe thead th {\n",
       "        text-align: right;\n",
       "    }\n",
       "</style>\n",
       "<table border=\"1\" class=\"dataframe\">\n",
       "  <thead>\n",
       "    <tr style=\"text-align: right;\">\n",
       "      <th></th>\n",
       "      <th>Life_Expectancy</th>\n",
       "      <th>Country</th>\n",
       "    </tr>\n",
       "  </thead>\n",
       "  <tbody>\n",
       "    <tr>\n",
       "      <th>AFE-2022</th>\n",
       "      <td>NaN</td>\n",
       "      <td>Africa Eastern and Southern</td>\n",
       "    </tr>\n",
       "    <tr>\n",
       "      <th>AFE-2021</th>\n",
       "      <td>62.454590</td>\n",
       "      <td>Africa Eastern and Southern</td>\n",
       "    </tr>\n",
       "    <tr>\n",
       "      <th>AFE-2020</th>\n",
       "      <td>63.313860</td>\n",
       "      <td>Africa Eastern and Southern</td>\n",
       "    </tr>\n",
       "    <tr>\n",
       "      <th>AFE-2019</th>\n",
       "      <td>63.755678</td>\n",
       "      <td>Africa Eastern and Southern</td>\n",
       "    </tr>\n",
       "    <tr>\n",
       "      <th>AFE-2018</th>\n",
       "      <td>63.365863</td>\n",
       "      <td>Africa Eastern and Southern</td>\n",
       "    </tr>\n",
       "  </tbody>\n",
       "</table>\n",
       "</div>"
      ],
      "text/plain": [
       "          Life_Expectancy                      Country\n",
       "AFE-2022              NaN  Africa Eastern and Southern\n",
       "AFE-2021        62.454590  Africa Eastern and Southern\n",
       "AFE-2020        63.313860  Africa Eastern and Southern\n",
       "AFE-2019        63.755678  Africa Eastern and Southern\n",
       "AFE-2018        63.365863  Africa Eastern and Southern"
      ]
     },
     "execution_count": 47,
     "metadata": {},
     "output_type": "execute_result"
    }
   ],
   "source": [
    "(\n",
    "    le_df\n",
    "    .set_index(le_df['ISO'] + '-' + le_df['Year'])\n",
    "    .drop(columns=['ISO', 'Year'])\n",
    "    .head()\n",
    ")"
   ]
  },
  {
   "cell_type": "code",
   "execution_count": 49,
   "metadata": {},
   "outputs": [
    {
     "name": "stdout",
     "output_type": "stream",
     "text": [
      "16758\n",
      "16758\n"
     ]
    }
   ],
   "source": [
    "print(len(gdp_df))\n",
    "print(len(le_df))"
   ]
  },
  {
   "cell_type": "markdown",
   "metadata": {},
   "source": [
    "3. Merge the two results DataFrames together. You may want to rename or drop columns prior to merging.\n"
   ]
  },
  {
   "cell_type": "code",
   "execution_count": 51,
   "metadata": {},
   "outputs": [
    {
     "data": {
      "text/html": [
       "<div>\n",
       "<style scoped>\n",
       "    .dataframe tbody tr th:only-of-type {\n",
       "        vertical-align: middle;\n",
       "    }\n",
       "\n",
       "    .dataframe tbody tr th {\n",
       "        vertical-align: top;\n",
       "    }\n",
       "\n",
       "    .dataframe thead th {\n",
       "        text-align: right;\n",
       "    }\n",
       "</style>\n",
       "<table border=\"1\" class=\"dataframe\">\n",
       "  <thead>\n",
       "    <tr style=\"text-align: right;\">\n",
       "      <th></th>\n",
       "      <th>Year</th>\n",
       "      <th>GDP_per_capita</th>\n",
       "      <th>Country</th>\n",
       "      <th>ISO</th>\n",
       "      <th>Life_Expectancy</th>\n",
       "    </tr>\n",
       "  </thead>\n",
       "  <tbody>\n",
       "    <tr>\n",
       "      <th>0</th>\n",
       "      <td>2022</td>\n",
       "      <td>3553.913370</td>\n",
       "      <td>Africa Eastern and Southern</td>\n",
       "      <td>AFE</td>\n",
       "      <td>NaN</td>\n",
       "    </tr>\n",
       "    <tr>\n",
       "      <th>1</th>\n",
       "      <td>2021</td>\n",
       "      <td>3519.174840</td>\n",
       "      <td>Africa Eastern and Southern</td>\n",
       "      <td>AFE</td>\n",
       "      <td>62.454590</td>\n",
       "    </tr>\n",
       "    <tr>\n",
       "      <th>2</th>\n",
       "      <td>2020</td>\n",
       "      <td>3455.023119</td>\n",
       "      <td>Africa Eastern and Southern</td>\n",
       "      <td>AFE</td>\n",
       "      <td>63.313860</td>\n",
       "    </tr>\n",
       "    <tr>\n",
       "      <th>3</th>\n",
       "      <td>2019</td>\n",
       "      <td>3648.220302</td>\n",
       "      <td>Africa Eastern and Southern</td>\n",
       "      <td>AFE</td>\n",
       "      <td>63.755678</td>\n",
       "    </tr>\n",
       "    <tr>\n",
       "      <th>4</th>\n",
       "      <td>2018</td>\n",
       "      <td>3661.360566</td>\n",
       "      <td>Africa Eastern and Southern</td>\n",
       "      <td>AFE</td>\n",
       "      <td>63.365863</td>\n",
       "    </tr>\n",
       "  </tbody>\n",
       "</table>\n",
       "</div>"
      ],
      "text/plain": [
       "   Year  GDP_per_capita                      Country  ISO  Life_Expectancy\n",
       "0  2022     3553.913370  Africa Eastern and Southern  AFE              NaN\n",
       "1  2021     3519.174840  Africa Eastern and Southern  AFE        62.454590\n",
       "2  2020     3455.023119  Africa Eastern and Southern  AFE        63.313860\n",
       "3  2019     3648.220302  Africa Eastern and Southern  AFE        63.755678\n",
       "4  2018     3661.360566  Africa Eastern and Southern  AFE        63.365863"
      ]
     },
     "execution_count": 51,
     "metadata": {},
     "output_type": "execute_result"
    }
   ],
   "source": [
    "gdp_le_df = gdp_df.merge(le_df, how='inner', on=['Year', 'Country'])\n",
    "gdp_le_df.head()"
   ]
  },
  {
   "cell_type": "markdown",
   "metadata": {},
   "source": [
    "4. You can also get more information about the available countries (region, capital city, income level classification, etc.) by using the [Country API](https://datahelpdesk.worldbank.org/knowledgebase/articles/898590-country-api-queries). Use this API to pull in all available data. Merge this with your other datasets. Use this to now remove the rows that correspond to regions and not countries."
   ]
  },
  {
   "cell_type": "code",
   "execution_count": 80,
   "metadata": {},
   "outputs": [
    {
     "data": {
      "text/plain": [
       "200"
      ]
     },
     "execution_count": 80,
     "metadata": {},
     "output_type": "execute_result"
    }
   ],
   "source": [
    "endpoint = 'http://api.worldbank.org/v2/country/'\n",
    "params = {\n",
    "    #'indicator': 'NY.GDP.PCAP.PP.KD',\n",
    "    'format': 'json',\n",
    "    'per_page': '20000'\n",
    "    #'page': '3:5'\n",
    "}\n",
    "\n",
    "response = requests.get(endpoint, params = params)\n",
    "\n",
    "response.status_code"
   ]
  },
  {
   "cell_type": "code",
   "execution_count": 81,
   "metadata": {},
   "outputs": [
    {
     "data": {
      "text/plain": [
       "{'page': 1, 'pages': 1, 'per_page': '20000', 'total': 297}"
      ]
     },
     "execution_count": 81,
     "metadata": {},
     "output_type": "execute_result"
    }
   ],
   "source": [
    "response.json()[0]"
   ]
  },
  {
   "cell_type": "code",
   "execution_count": 82,
   "metadata": {},
   "outputs": [],
   "source": [
    "countries = pd.json_normalize(response.json()[1])"
   ]
  },
  {
   "cell_type": "code",
   "execution_count": 85,
   "metadata": {},
   "outputs": [
    {
     "data": {
      "text/html": [
       "<div>\n",
       "<style scoped>\n",
       "    .dataframe tbody tr th:only-of-type {\n",
       "        vertical-align: middle;\n",
       "    }\n",
       "\n",
       "    .dataframe tbody tr th {\n",
       "        vertical-align: top;\n",
       "    }\n",
       "\n",
       "    .dataframe thead th {\n",
       "        text-align: right;\n",
       "    }\n",
       "</style>\n",
       "<table border=\"1\" class=\"dataframe\">\n",
       "  <thead>\n",
       "    <tr style=\"text-align: right;\">\n",
       "      <th></th>\n",
       "      <th>Country</th>\n",
       "      <th>Region</th>\n",
       "      <th>capitalCity</th>\n",
       "    </tr>\n",
       "  </thead>\n",
       "  <tbody>\n",
       "    <tr>\n",
       "      <th>0</th>\n",
       "      <td>Aruba</td>\n",
       "      <td>Latin America &amp; Caribbean</td>\n",
       "      <td>Oranjestad</td>\n",
       "    </tr>\n",
       "    <tr>\n",
       "      <th>2</th>\n",
       "      <td>Afghanistan</td>\n",
       "      <td>South Asia</td>\n",
       "      <td>Kabul</td>\n",
       "    </tr>\n",
       "    <tr>\n",
       "      <th>5</th>\n",
       "      <td>Angola</td>\n",
       "      <td>Sub-Saharan Africa</td>\n",
       "      <td>Luanda</td>\n",
       "    </tr>\n",
       "    <tr>\n",
       "      <th>6</th>\n",
       "      <td>Albania</td>\n",
       "      <td>Europe &amp; Central Asia</td>\n",
       "      <td>Tirane</td>\n",
       "    </tr>\n",
       "    <tr>\n",
       "      <th>7</th>\n",
       "      <td>Andorra</td>\n",
       "      <td>Europe &amp; Central Asia</td>\n",
       "      <td>Andorra la Vella</td>\n",
       "    </tr>\n",
       "  </tbody>\n",
       "</table>\n",
       "</div>"
      ],
      "text/plain": [
       "       Country                      Region       capitalCity\n",
       "0        Aruba  Latin America & Caribbean         Oranjestad\n",
       "2  Afghanistan                  South Asia             Kabul\n",
       "5       Angola         Sub-Saharan Africa             Luanda\n",
       "6      Albania       Europe & Central Asia            Tirane\n",
       "7      Andorra       Europe & Central Asia  Andorra la Vella"
      ]
     },
     "execution_count": 85,
     "metadata": {},
     "output_type": "execute_result"
    }
   ],
   "source": [
    "countries = (\n",
    "    countries\n",
    "    .loc[countries['region.value'] != 'Aggregates']\n",
    "    .rename(columns={\n",
    "        'name': 'Country',\n",
    "        'region.value': 'Region'})\n",
    "    [['Country', 'Region', 'capitalCity']]\n",
    ")\n",
    "\n",
    "countries.head()"
   ]
  },
  {
   "cell_type": "code",
   "execution_count": 86,
   "metadata": {},
   "outputs": [
    {
     "name": "stdout",
     "output_type": "stream",
     "text": [
      "16758\n",
      "266\n",
      "218\n"
     ]
    }
   ],
   "source": [
    "print(gdp_le_df.shape[0])\n",
    "print(gdp_le_df['Country'].nunique())\n",
    "print(countries.shape[0])"
   ]
  },
  {
   "cell_type": "code",
   "execution_count": 87,
   "metadata": {},
   "outputs": [],
   "source": [
    "gdp_le_final = gdp_le_df.merge(countries, how='inner', on='Country')"
   ]
  },
  {
   "cell_type": "code",
   "execution_count": 88,
   "metadata": {},
   "outputs": [
    {
     "name": "stdout",
     "output_type": "stream",
     "text": [
      "217\n",
      "countries that are missing: {'Taiwan, China'}\n",
      "13671\n"
     ]
    }
   ],
   "source": [
    "print(gdp_le_final['Country'].nunique())\n",
    "print('countries that are missing:', set(countries['Country'].unique()) - set(gdp_le_final['Country'].unique()))\n",
    "print(gdp_le_final.shape[0])"
   ]
  },
  {
   "cell_type": "code",
   "execution_count": 91,
   "metadata": {},
   "outputs": [
    {
     "data": {
      "text/plain": [
       "array(['Channel Islands', 'Gibraltar', 'Hong Kong SAR, China', 'Israel',\n",
       "       'Macao SAR, China', 'West Bank and Gaza'], dtype=object)"
      ]
     },
     "execution_count": 91,
     "metadata": {},
     "output_type": "execute_result"
    }
   ],
   "source": [
    "# countries with no capital (and therefore no longitude and latitude)\n",
    "gdp_le_final.loc[gdp_le_final['capitalCity'] == '', 'Country'].unique()"
   ]
  },
  {
   "cell_type": "code",
   "execution_count": 29,
   "metadata": {},
   "outputs": [],
   "source": [
    "#print(set(gdp_le_df['Country'].unique()) - set(gdp_le_final['Country'].unique()))"
   ]
  },
  {
   "cell_type": "code",
   "execution_count": 27,
   "metadata": {},
   "outputs": [
    {
     "data": {
      "text/html": [
       "<div>\n",
       "<style scoped>\n",
       "    .dataframe tbody tr th:only-of-type {\n",
       "        vertical-align: middle;\n",
       "    }\n",
       "\n",
       "    .dataframe tbody tr th {\n",
       "        vertical-align: top;\n",
       "    }\n",
       "\n",
       "    .dataframe thead th {\n",
       "        text-align: right;\n",
       "    }\n",
       "</style>\n",
       "<table border=\"1\" class=\"dataframe\">\n",
       "  <thead>\n",
       "    <tr style=\"text-align: right;\">\n",
       "      <th></th>\n",
       "      <th>Year</th>\n",
       "      <th>GDP_per_capita</th>\n",
       "      <th>Country</th>\n",
       "      <th>ISO</th>\n",
       "      <th>Life_Expectancy</th>\n",
       "    </tr>\n",
       "  </thead>\n",
       "  <tbody>\n",
       "    <tr>\n",
       "      <th>0</th>\n",
       "      <td>2022</td>\n",
       "      <td>3553.913370</td>\n",
       "      <td>Africa Eastern and Southern</td>\n",
       "      <td>AFE</td>\n",
       "      <td>NaN</td>\n",
       "    </tr>\n",
       "    <tr>\n",
       "      <th>1</th>\n",
       "      <td>2021</td>\n",
       "      <td>3519.174840</td>\n",
       "      <td>Africa Eastern and Southern</td>\n",
       "      <td>AFE</td>\n",
       "      <td>62.454590</td>\n",
       "    </tr>\n",
       "    <tr>\n",
       "      <th>2</th>\n",
       "      <td>2020</td>\n",
       "      <td>3455.023119</td>\n",
       "      <td>Africa Eastern and Southern</td>\n",
       "      <td>AFE</td>\n",
       "      <td>63.313860</td>\n",
       "    </tr>\n",
       "    <tr>\n",
       "      <th>3</th>\n",
       "      <td>2019</td>\n",
       "      <td>3648.220302</td>\n",
       "      <td>Africa Eastern and Southern</td>\n",
       "      <td>AFE</td>\n",
       "      <td>63.755678</td>\n",
       "    </tr>\n",
       "    <tr>\n",
       "      <th>4</th>\n",
       "      <td>2018</td>\n",
       "      <td>3661.360566</td>\n",
       "      <td>Africa Eastern and Southern</td>\n",
       "      <td>AFE</td>\n",
       "      <td>63.365863</td>\n",
       "    </tr>\n",
       "  </tbody>\n",
       "</table>\n",
       "</div>"
      ],
      "text/plain": [
       "   Year  GDP_per_capita                      Country  ISO  Life_Expectancy\n",
       "0  2022     3553.913370  Africa Eastern and Southern  AFE              NaN\n",
       "1  2021     3519.174840  Africa Eastern and Southern  AFE        62.454590\n",
       "2  2020     3455.023119  Africa Eastern and Southern  AFE        63.313860\n",
       "3  2019     3648.220302  Africa Eastern and Southern  AFE        63.755678\n",
       "4  2018     3661.360566  Africa Eastern and Southern  AFE        63.365863"
      ]
     },
     "execution_count": 27,
     "metadata": {},
     "output_type": "execute_result"
    }
   ],
   "source": [
    "gdp_le_df.head()"
   ]
  },
  {
   "cell_type": "code",
   "execution_count": 64,
   "metadata": {},
   "outputs": [
    {
     "name": "stdout",
     "output_type": "stream",
     "text": [
      "['CAN']\n",
      "['USA']\n"
     ]
    }
   ],
   "source": [
    "print(gdp_le_df.loc[gdp_le_df['Country'] == 'Canada', 'ISO'].unique())\n",
    "print(gdp_le_df.loc[gdp_le_df['Country'] == 'United States', 'ISO'].unique())"
   ]
  },
  {
   "cell_type": "markdown",
   "metadata": {},
   "source": [
    "**Bonus Questions:** After doing a basic request to get all records, you can attempt these exercises to get additional practice using query parameters.\n",
    "\n",
    "1. Adjust your request so that it returns data just for the United States.\n",
    "\n",
    "2. Adjust your request so that it returns data just for the United States for the year 2021.\n",
    "\n",
    "3. Adjust your request so that it returns data just for the United States for the years 2000 through 2021.\n",
    "\n",
    "4. Adjust your request so that it returns data for the United States and Canada for the years 2000 through 2021."
   ]
  },
  {
   "cell_type": "code",
   "execution_count": 71,
   "metadata": {},
   "outputs": [
    {
     "data": {
      "text/plain": [
       "200"
      ]
     },
     "execution_count": 71,
     "metadata": {},
     "output_type": "execute_result"
    }
   ],
   "source": [
    "endpoint = 'http://api.worldbank.org/v2/country/USA;CAN/indicator/NY.GDP.PCAP.PP.KD'\n",
    "\n",
    "params = {\n",
    "    'format': 'json',\n",
    "    'per_page': '20000',\n",
    "    'date':'2000:2021'\n",
    "}\n",
    "\n",
    "response = requests.get(endpoint, params = params)\n",
    "\n",
    "response.status_code"
   ]
  },
  {
   "cell_type": "code",
   "execution_count": 72,
   "metadata": {},
   "outputs": [
    {
     "data": {
      "text/plain": [
       "{'page': 1,\n",
       " 'pages': 1,\n",
       " 'per_page': 20000,\n",
       " 'total': 44,\n",
       " 'sourceid': '2',\n",
       " 'lastupdated': '2023-09-19'}"
      ]
     },
     "execution_count": 72,
     "metadata": {},
     "output_type": "execute_result"
    }
   ],
   "source": [
    "response.json()[0]"
   ]
  },
  {
   "cell_type": "code",
   "execution_count": 73,
   "metadata": {},
   "outputs": [
    {
     "data": {
      "text/plain": [
       "[{'indicator': {'id': 'NY.GDP.PCAP.PP.KD',\n",
       "   'value': 'GDP per capita, PPP (constant 2017 international $)'},\n",
       "  'country': {'id': 'CA', 'value': 'Canada'},\n",
       "  'countryiso3code': 'CAN',\n",
       "  'date': '2021',\n",
       "  'value': 48218.038315768,\n",
       "  'unit': '',\n",
       "  'obs_status': '',\n",
       "  'decimal': 0},\n",
       " {'indicator': {'id': 'NY.GDP.PCAP.PP.KD',\n",
       "   'value': 'GDP per capita, PPP (constant 2017 international $)'},\n",
       "  'country': {'id': 'CA', 'value': 'Canada'},\n",
       "  'countryiso3code': 'CAN',\n",
       "  'date': '2020',\n",
       "  'value': 46181.7575545756,\n",
       "  'unit': '',\n",
       "  'obs_status': '',\n",
       "  'decimal': 0},\n",
       " {'indicator': {'id': 'NY.GDP.PCAP.PP.KD',\n",
       "   'value': 'GDP per capita, PPP (constant 2017 international $)'},\n",
       "  'country': {'id': 'CA', 'value': 'Canada'},\n",
       "  'countryiso3code': 'CAN',\n",
       "  'date': '2019',\n",
       "  'value': 49175.6770500696,\n",
       "  'unit': '',\n",
       "  'obs_status': '',\n",
       "  'decimal': 0},\n",
       " {'indicator': {'id': 'NY.GDP.PCAP.PP.KD',\n",
       "   'value': 'GDP per capita, PPP (constant 2017 international $)'},\n",
       "  'country': {'id': 'CA', 'value': 'Canada'},\n",
       "  'countryiso3code': 'CAN',\n",
       "  'date': '2018',\n",
       "  'value': 48962.4815108923,\n",
       "  'unit': '',\n",
       "  'obs_status': '',\n",
       "  'decimal': 0},\n",
       " {'indicator': {'id': 'NY.GDP.PCAP.PP.KD',\n",
       "   'value': 'GDP per capita, PPP (constant 2017 international $)'},\n",
       "  'country': {'id': 'CA', 'value': 'Canada'},\n",
       "  'countryiso3code': 'CAN',\n",
       "  'date': '2017',\n",
       "  'value': 48317.1745835151,\n",
       "  'unit': '',\n",
       "  'obs_status': '',\n",
       "  'decimal': 0},\n",
       " {'indicator': {'id': 'NY.GDP.PCAP.PP.KD',\n",
       "   'value': 'GDP per capita, PPP (constant 2017 international $)'},\n",
       "  'country': {'id': 'CA', 'value': 'Canada'},\n",
       "  'countryiso3code': 'CAN',\n",
       "  'date': '2016',\n",
       "  'value': 47457.5853457244,\n",
       "  'unit': '',\n",
       "  'obs_status': '',\n",
       "  'decimal': 0},\n",
       " {'indicator': {'id': 'NY.GDP.PCAP.PP.KD',\n",
       "   'value': 'GDP per capita, PPP (constant 2017 international $)'},\n",
       "  'country': {'id': 'CA', 'value': 'Canada'},\n",
       "  'countryiso3code': 'CAN',\n",
       "  'date': '2015',\n",
       "  'value': 47522.1406673151,\n",
       "  'unit': '',\n",
       "  'obs_status': '',\n",
       "  'decimal': 0},\n",
       " {'indicator': {'id': 'NY.GDP.PCAP.PP.KD',\n",
       "   'value': 'GDP per capita, PPP (constant 2017 international $)'},\n",
       "  'country': {'id': 'CA', 'value': 'Canada'},\n",
       "  'countryiso3code': 'CAN',\n",
       "  'date': '2014',\n",
       "  'value': 47564.609109622,\n",
       "  'unit': '',\n",
       "  'obs_status': '',\n",
       "  'decimal': 0},\n",
       " {'indicator': {'id': 'NY.GDP.PCAP.PP.KD',\n",
       "   'value': 'GDP per capita, PPP (constant 2017 international $)'},\n",
       "  'country': {'id': 'CA', 'value': 'Canada'},\n",
       "  'countryiso3code': 'CAN',\n",
       "  'date': '2013',\n",
       "  'value': 46704.7622355677,\n",
       "  'unit': '',\n",
       "  'obs_status': '',\n",
       "  'decimal': 0},\n",
       " {'indicator': {'id': 'NY.GDP.PCAP.PP.KD',\n",
       "   'value': 'GDP per capita, PPP (constant 2017 international $)'},\n",
       "  'country': {'id': 'CA', 'value': 'Canada'},\n",
       "  'countryiso3code': 'CAN',\n",
       "  'date': '2012',\n",
       "  'value': 46126.5138859002,\n",
       "  'unit': '',\n",
       "  'obs_status': '',\n",
       "  'decimal': 0},\n",
       " {'indicator': {'id': 'NY.GDP.PCAP.PP.KD',\n",
       "   'value': 'GDP per capita, PPP (constant 2017 international $)'},\n",
       "  'country': {'id': 'CA', 'value': 'Canada'},\n",
       "  'countryiso3code': 'CAN',\n",
       "  'date': '2011',\n",
       "  'value': 45823.1642403883,\n",
       "  'unit': '',\n",
       "  'obs_status': '',\n",
       "  'decimal': 0},\n",
       " {'indicator': {'id': 'NY.GDP.PCAP.PP.KD',\n",
       "   'value': 'GDP per capita, PPP (constant 2017 international $)'},\n",
       "  'country': {'id': 'CA', 'value': 'Canada'},\n",
       "  'countryiso3code': 'CAN',\n",
       "  'date': '2010',\n",
       "  'value': 44862.4194958293,\n",
       "  'unit': '',\n",
       "  'obs_status': '',\n",
       "  'decimal': 0},\n",
       " {'indicator': {'id': 'NY.GDP.PCAP.PP.KD',\n",
       "   'value': 'GDP per capita, PPP (constant 2017 international $)'},\n",
       "  'country': {'id': 'CA', 'value': 'Canada'},\n",
       "  'countryiso3code': 'CAN',\n",
       "  'date': '2009',\n",
       "  'value': 44004.3141019538,\n",
       "  'unit': '',\n",
       "  'obs_status': '',\n",
       "  'decimal': 0},\n",
       " {'indicator': {'id': 'NY.GDP.PCAP.PP.KD',\n",
       "   'value': 'GDP per capita, PPP (constant 2017 international $)'},\n",
       "  'country': {'id': 'CA', 'value': 'Canada'},\n",
       "  'countryiso3code': 'CAN',\n",
       "  'date': '2008',\n",
       "  'value': 45851.2019282813,\n",
       "  'unit': '',\n",
       "  'obs_status': '',\n",
       "  'decimal': 0},\n",
       " {'indicator': {'id': 'NY.GDP.PCAP.PP.KD',\n",
       "   'value': 'GDP per capita, PPP (constant 2017 international $)'},\n",
       "  'country': {'id': 'CA', 'value': 'Canada'},\n",
       "  'countryiso3code': 'CAN',\n",
       "  'date': '2007',\n",
       "  'value': 45889.5621291537,\n",
       "  'unit': '',\n",
       "  'obs_status': '',\n",
       "  'decimal': 0},\n",
       " {'indicator': {'id': 'NY.GDP.PCAP.PP.KD',\n",
       "   'value': 'GDP per capita, PPP (constant 2017 international $)'},\n",
       "  'country': {'id': 'CA', 'value': 'Canada'},\n",
       "  'countryiso3code': 'CAN',\n",
       "  'date': '2006',\n",
       "  'value': 45396.8396580252,\n",
       "  'unit': '',\n",
       "  'obs_status': '',\n",
       "  'decimal': 0},\n",
       " {'indicator': {'id': 'NY.GDP.PCAP.PP.KD',\n",
       "   'value': 'GDP per capita, PPP (constant 2017 international $)'},\n",
       "  'country': {'id': 'CA', 'value': 'Canada'},\n",
       "  'countryiso3code': 'CAN',\n",
       "  'date': '2005',\n",
       "  'value': 44680.7964889693,\n",
       "  'unit': '',\n",
       "  'obs_status': '',\n",
       "  'decimal': 0},\n",
       " {'indicator': {'id': 'NY.GDP.PCAP.PP.KD',\n",
       "   'value': 'GDP per capita, PPP (constant 2017 international $)'},\n",
       "  'country': {'id': 'CA', 'value': 'Canada'},\n",
       "  'countryiso3code': 'CAN',\n",
       "  'date': '2004',\n",
       "  'value': 43704.4139089537,\n",
       "  'unit': '',\n",
       "  'obs_status': '',\n",
       "  'decimal': 0},\n",
       " {'indicator': {'id': 'NY.GDP.PCAP.PP.KD',\n",
       "   'value': 'GDP per capita, PPP (constant 2017 international $)'},\n",
       "  'country': {'id': 'CA', 'value': 'Canada'},\n",
       "  'countryiso3code': 'CAN',\n",
       "  'date': '2003',\n",
       "  'value': 42793.0792526308,\n",
       "  'unit': '',\n",
       "  'obs_status': '',\n",
       "  'decimal': 0},\n",
       " {'indicator': {'id': 'NY.GDP.PCAP.PP.KD',\n",
       "   'value': 'GDP per capita, PPP (constant 2017 international $)'},\n",
       "  'country': {'id': 'CA', 'value': 'Canada'},\n",
       "  'countryiso3code': 'CAN',\n",
       "  'date': '2002',\n",
       "  'value': 42416.4087525762,\n",
       "  'unit': '',\n",
       "  'obs_status': '',\n",
       "  'decimal': 0},\n",
       " {'indicator': {'id': 'NY.GDP.PCAP.PP.KD',\n",
       "   'value': 'GDP per capita, PPP (constant 2017 international $)'},\n",
       "  'country': {'id': 'CA', 'value': 'Canada'},\n",
       "  'countryiso3code': 'CAN',\n",
       "  'date': '2001',\n",
       "  'value': 41623.9503409049,\n",
       "  'unit': '',\n",
       "  'obs_status': '',\n",
       "  'decimal': 0},\n",
       " {'indicator': {'id': 'NY.GDP.PCAP.PP.KD',\n",
       "   'value': 'GDP per capita, PPP (constant 2017 international $)'},\n",
       "  'country': {'id': 'CA', 'value': 'Canada'},\n",
       "  'countryiso3code': 'CAN',\n",
       "  'date': '2000',\n",
       "  'value': 41338.6470179142,\n",
       "  'unit': '',\n",
       "  'obs_status': '',\n",
       "  'decimal': 0},\n",
       " {'indicator': {'id': 'NY.GDP.PCAP.PP.KD',\n",
       "   'value': 'GDP per capita, PPP (constant 2017 international $)'},\n",
       "  'country': {'id': 'US', 'value': 'United States'},\n",
       "  'countryiso3code': 'USA',\n",
       "  'date': '2021',\n",
       "  'value': 63635.823810408,\n",
       "  'unit': '',\n",
       "  'obs_status': '',\n",
       "  'decimal': 0},\n",
       " {'indicator': {'id': 'NY.GDP.PCAP.PP.KD',\n",
       "   'value': 'GDP per capita, PPP (constant 2017 international $)'},\n",
       "  'country': {'id': 'US', 'value': 'United States'},\n",
       "  'countryiso3code': 'USA',\n",
       "  'date': '2020',\n",
       "  'value': 60158.9104528302,\n",
       "  'unit': '',\n",
       "  'obs_status': '',\n",
       "  'decimal': 0},\n",
       " {'indicator': {'id': 'NY.GDP.PCAP.PP.KD',\n",
       "   'value': 'GDP per capita, PPP (constant 2017 international $)'},\n",
       "  'country': {'id': 'US', 'value': 'United States'},\n",
       "  'countryiso3code': 'USA',\n",
       "  'date': '2019',\n",
       "  'value': 62470.9299128669,\n",
       "  'unit': '',\n",
       "  'obs_status': '',\n",
       "  'decimal': 0},\n",
       " {'indicator': {'id': 'NY.GDP.PCAP.PP.KD',\n",
       "   'value': 'GDP per capita, PPP (constant 2017 international $)'},\n",
       "  'country': {'id': 'US', 'value': 'United States'},\n",
       "  'countryiso3code': 'USA',\n",
       "  'date': '2018',\n",
       "  'value': 61348.4565959474,\n",
       "  'unit': '',\n",
       "  'obs_status': '',\n",
       "  'decimal': 0},\n",
       " {'indicator': {'id': 'NY.GDP.PCAP.PP.KD',\n",
       "   'value': 'GDP per capita, PPP (constant 2017 international $)'},\n",
       "  'country': {'id': 'US', 'value': 'United States'},\n",
       "  'countryiso3code': 'USA',\n",
       "  'date': '2017',\n",
       "  'value': 59907.7542608847,\n",
       "  'unit': '',\n",
       "  'obs_status': '',\n",
       "  'decimal': 0},\n",
       " {'indicator': {'id': 'NY.GDP.PCAP.PP.KD',\n",
       "   'value': 'GDP per capita, PPP (constant 2017 international $)'},\n",
       "  'country': {'id': 'US', 'value': 'United States'},\n",
       "  'countryiso3code': 'USA',\n",
       "  'date': '2016',\n",
       "  'value': 58965.9874885429,\n",
       "  'unit': '',\n",
       "  'obs_status': '',\n",
       "  'decimal': 0},\n",
       " {'indicator': {'id': 'NY.GDP.PCAP.PP.KD',\n",
       "   'value': 'GDP per capita, PPP (constant 2017 international $)'},\n",
       "  'country': {'id': 'US', 'value': 'United States'},\n",
       "  'countryiso3code': 'USA',\n",
       "  'date': '2015',\n",
       "  'value': 58420.7030402533,\n",
       "  'unit': '',\n",
       "  'obs_status': '',\n",
       "  'decimal': 0},\n",
       " {'indicator': {'id': 'NY.GDP.PCAP.PP.KD',\n",
       "   'value': 'GDP per capita, PPP (constant 2017 international $)'},\n",
       "  'country': {'id': 'US', 'value': 'United States'},\n",
       "  'countryiso3code': 'USA',\n",
       "  'date': '2014',\n",
       "  'value': 57301.6004243398,\n",
       "  'unit': '',\n",
       "  'obs_status': '',\n",
       "  'decimal': 0},\n",
       " {'indicator': {'id': 'NY.GDP.PCAP.PP.KD',\n",
       "   'value': 'GDP per capita, PPP (constant 2017 international $)'},\n",
       "  'country': {'id': 'US', 'value': 'United States'},\n",
       "  'countryiso3code': 'USA',\n",
       "  'date': '2013',\n",
       "  'value': 56432.3277678137,\n",
       "  'unit': '',\n",
       "  'obs_status': '',\n",
       "  'decimal': 0},\n",
       " {'indicator': {'id': 'NY.GDP.PCAP.PP.KD',\n",
       "   'value': 'GDP per capita, PPP (constant 2017 international $)'},\n",
       "  'country': {'id': 'US', 'value': 'United States'},\n",
       "  'countryiso3code': 'USA',\n",
       "  'date': '2012',\n",
       "  'value': 55796.9719189018,\n",
       "  'unit': '',\n",
       "  'obs_status': '',\n",
       "  'decimal': 0},\n",
       " {'indicator': {'id': 'NY.GDP.PCAP.PP.KD',\n",
       "   'value': 'GDP per capita, PPP (constant 2017 international $)'},\n",
       "  'country': {'id': 'US', 'value': 'United States'},\n",
       "  'countryiso3code': 'USA',\n",
       "  'date': '2011',\n",
       "  'value': 54954.4639140964,\n",
       "  'unit': '',\n",
       "  'obs_status': '',\n",
       "  'decimal': 0},\n",
       " {'indicator': {'id': 'NY.GDP.PCAP.PP.KD',\n",
       "   'value': 'GDP per capita, PPP (constant 2017 international $)'},\n",
       "  'country': {'id': 'US', 'value': 'United States'},\n",
       "  'countryiso3code': 'USA',\n",
       "  'date': '2010',\n",
       "  'value': 54510.4656195265,\n",
       "  'unit': '',\n",
       "  'obs_status': '',\n",
       "  'decimal': 0},\n",
       " {'indicator': {'id': 'NY.GDP.PCAP.PP.KD',\n",
       "   'value': 'GDP per capita, PPP (constant 2017 international $)'},\n",
       "  'country': {'id': 'US', 'value': 'United States'},\n",
       "  'countryiso3code': 'USA',\n",
       "  'date': '2009',\n",
       "  'value': 53514.9317967918,\n",
       "  'unit': '',\n",
       "  'obs_status': '',\n",
       "  'decimal': 0},\n",
       " {'indicator': {'id': 'NY.GDP.PCAP.PP.KD',\n",
       "   'value': 'GDP per capita, PPP (constant 2017 international $)'},\n",
       "  'country': {'id': 'US', 'value': 'United States'},\n",
       "  'countryiso3code': 'USA',\n",
       "  'date': '2008',\n",
       "  'value': 55427.1782729987,\n",
       "  'unit': '',\n",
       "  'obs_status': '',\n",
       "  'decimal': 0},\n",
       " {'indicator': {'id': 'NY.GDP.PCAP.PP.KD',\n",
       "   'value': 'GDP per capita, PPP (constant 2017 international $)'},\n",
       "  'country': {'id': 'US', 'value': 'United States'},\n",
       "  'countryiso3code': 'USA',\n",
       "  'date': '2007',\n",
       "  'value': 55885.6461740938,\n",
       "  'unit': '',\n",
       "  'obs_status': '',\n",
       "  'decimal': 0},\n",
       " {'indicator': {'id': 'NY.GDP.PCAP.PP.KD',\n",
       "   'value': 'GDP per capita, PPP (constant 2017 international $)'},\n",
       "  'country': {'id': 'US', 'value': 'United States'},\n",
       "  'countryiso3code': 'USA',\n",
       "  'date': '2006',\n",
       "  'value': 55307.7191487452,\n",
       "  'unit': '',\n",
       "  'obs_status': '',\n",
       "  'decimal': 0},\n",
       " {'indicator': {'id': 'NY.GDP.PCAP.PP.KD',\n",
       "   'value': 'GDP per capita, PPP (constant 2017 international $)'},\n",
       "  'country': {'id': 'US', 'value': 'United States'},\n",
       "  'countryiso3code': 'USA',\n",
       "  'date': '2005',\n",
       "  'value': 54331.6583361399,\n",
       "  'unit': '',\n",
       "  'obs_status': '',\n",
       "  'decimal': 0},\n",
       " {'indicator': {'id': 'NY.GDP.PCAP.PP.KD',\n",
       "   'value': 'GDP per capita, PPP (constant 2017 international $)'},\n",
       "  'country': {'id': 'US', 'value': 'United States'},\n",
       "  'countryiso3code': 'USA',\n",
       "  'date': '2004',\n",
       "  'value': 52989.0306944184,\n",
       "  'unit': '',\n",
       "  'obs_status': '',\n",
       "  'decimal': 0},\n",
       " {'indicator': {'id': 'NY.GDP.PCAP.PP.KD',\n",
       "   'value': 'GDP per capita, PPP (constant 2017 international $)'},\n",
       "  'country': {'id': 'US', 'value': 'United States'},\n",
       "  'countryiso3code': 'USA',\n",
       "  'date': '2003',\n",
       "  'value': 51497.7346884645,\n",
       "  'unit': '',\n",
       "  'obs_status': '',\n",
       "  'decimal': 0},\n",
       " {'indicator': {'id': 'NY.GDP.PCAP.PP.KD',\n",
       "   'value': 'GDP per capita, PPP (constant 2017 international $)'},\n",
       "  'country': {'id': 'US', 'value': 'United States'},\n",
       "  'countryiso3code': 'USA',\n",
       "  'date': '2002',\n",
       "  'value': 50529.349581757,\n",
       "  'unit': '',\n",
       "  'obs_status': '',\n",
       "  'decimal': 0},\n",
       " {'indicator': {'id': 'NY.GDP.PCAP.PP.KD',\n",
       "   'value': 'GDP per capita, PPP (constant 2017 international $)'},\n",
       "  'country': {'id': 'US', 'value': 'United States'},\n",
       "  'countryiso3code': 'USA',\n",
       "  'date': '2001',\n",
       "  'value': 50149.8286916684,\n",
       "  'unit': '',\n",
       "  'obs_status': '',\n",
       "  'decimal': 0},\n",
       " {'indicator': {'id': 'NY.GDP.PCAP.PP.KD',\n",
       "   'value': 'GDP per capita, PPP (constant 2017 international $)'},\n",
       "  'country': {'id': 'US', 'value': 'United States'},\n",
       "  'countryiso3code': 'USA',\n",
       "  'date': '2000',\n",
       "  'value': 50169.8563622622,\n",
       "  'unit': '',\n",
       "  'obs_status': '',\n",
       "  'decimal': 0}]"
      ]
     },
     "execution_count": 73,
     "metadata": {},
     "output_type": "execute_result"
    }
   ],
   "source": [
    "response.json()[1]"
   ]
  },
  {
   "cell_type": "markdown",
   "metadata": {},
   "source": [
    "5. If you haven't already done so and you would like to get some additional practice using loops, use the page parameter in order to pull all records. Do not change the value of the per_page parameter. You will likely need to utilize a loop of some kind in order to pull all records.\n",
    "\n",
    "6. The endpoint \"http://api.worldbank.org/v2/indicator\" will return information about all available indicators. See [Indicator API Queries](https://datahelpdesk.worldbank.org/knowledgebase/articles/898599-indicator-api-queries). Use this endpoint to find the code for the \"Public Expenditure on Education (% GDP)\" indicator."
   ]
  },
  {
   "cell_type": "markdown",
   "metadata": {},
   "source": []
  }
 ],
 "metadata": {
  "kernelspec": {
   "display_name": "base",
   "language": "python",
   "name": "python3"
  },
  "language_info": {
   "codemirror_mode": {
    "name": "ipython",
    "version": 3
   },
   "file_extension": ".py",
   "mimetype": "text/x-python",
   "name": "python",
   "nbconvert_exporter": "python",
   "pygments_lexer": "ipython3",
   "version": "3.11.4"
  },
  "orig_nbformat": 4
 },
 "nbformat": 4,
 "nbformat_minor": 2
}
